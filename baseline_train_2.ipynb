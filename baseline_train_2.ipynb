{
 "cells": [
  {
   "cell_type": "code",
   "execution_count": 52,
   "id": "ba8275f5-03cd-4ca4-9b6a-186e6fe71d8b",
   "metadata": {},
   "outputs": [],
   "source": [
    "import pandas as pd\n",
    "import numpy as np"
   ]
  },
  {
   "cell_type": "code",
   "execution_count": 53,
   "id": "e99b136b-1f42-4d13-a8ef-3c577707d315",
   "metadata": {},
   "outputs": [
    {
     "data": {
      "text/html": [
       "<div>\n",
       "<style scoped>\n",
       "    .dataframe tbody tr th:only-of-type {\n",
       "        vertical-align: middle;\n",
       "    }\n",
       "\n",
       "    .dataframe tbody tr th {\n",
       "        vertical-align: top;\n",
       "    }\n",
       "\n",
       "    .dataframe thead th {\n",
       "        text-align: right;\n",
       "    }\n",
       "</style>\n",
       "<table border=\"1\" class=\"dataframe\">\n",
       "  <thead>\n",
       "    <tr style=\"text-align: right;\">\n",
       "      <th></th>\n",
       "      <th>file_name</th>\n",
       "      <th>individual_name</th>\n",
       "      <th>label</th>\n",
       "      <th>sequence</th>\n",
       "      <th>side</th>\n",
       "      <th>path</th>\n",
       "      <th>split</th>\n",
       "      <th>is_query</th>\n",
       "      <th>is_gallery</th>\n",
       "    </tr>\n",
       "  </thead>\n",
       "  <tbody>\n",
       "    <tr>\n",
       "      <th>0</th>\n",
       "      <td>e923dc51c3d3f6ff66ddb56b03f6c535.JPG</td>\n",
       "      <td>0</td>\n",
       "      <td>0</td>\n",
       "      <td>34</td>\n",
       "      <td>right</td>\n",
       "      <td>../train/e923dc51c3d3f6ff66ddb56b03f6c535.JPG</td>\n",
       "      <td>validation</td>\n",
       "      <td>1.0</td>\n",
       "      <td>1.0</td>\n",
       "    </tr>\n",
       "    <tr>\n",
       "      <th>1</th>\n",
       "      <td>ad168605cf575df7071a8fd3243183d7.JPG</td>\n",
       "      <td>0</td>\n",
       "      <td>0</td>\n",
       "      <td>34</td>\n",
       "      <td>right</td>\n",
       "      <td>../train/ad168605cf575df7071a8fd3243183d7.JPG</td>\n",
       "      <td>validation</td>\n",
       "      <td>1.0</td>\n",
       "      <td>1.0</td>\n",
       "    </tr>\n",
       "    <tr>\n",
       "      <th>2</th>\n",
       "      <td>4c5e1e09c364d17cdce4ae943535e9b9.JPG</td>\n",
       "      <td>0</td>\n",
       "      <td>0</td>\n",
       "      <td>45</td>\n",
       "      <td>right</td>\n",
       "      <td>../train/4c5e1e09c364d17cdce4ae943535e9b9.JPG</td>\n",
       "      <td>validation</td>\n",
       "      <td>1.0</td>\n",
       "      <td>1.0</td>\n",
       "    </tr>\n",
       "    <tr>\n",
       "      <th>3</th>\n",
       "      <td>a2347dc80412aaf70f17ff7bdb1b87cb.JPG</td>\n",
       "      <td>0</td>\n",
       "      <td>0</td>\n",
       "      <td>45</td>\n",
       "      <td>right</td>\n",
       "      <td>../train/a2347dc80412aaf70f17ff7bdb1b87cb.JPG</td>\n",
       "      <td>validation</td>\n",
       "      <td>1.0</td>\n",
       "      <td>1.0</td>\n",
       "    </tr>\n",
       "    <tr>\n",
       "      <th>4</th>\n",
       "      <td>10d51e412312e8b6d28275e201b04a0e.JPG</td>\n",
       "      <td>0</td>\n",
       "      <td>0</td>\n",
       "      <td>45</td>\n",
       "      <td>right</td>\n",
       "      <td>../train/10d51e412312e8b6d28275e201b04a0e.JPG</td>\n",
       "      <td>validation</td>\n",
       "      <td>1.0</td>\n",
       "      <td>1.0</td>\n",
       "    </tr>\n",
       "  </tbody>\n",
       "</table>\n",
       "</div>"
      ],
      "text/plain": [
       "                              file_name  individual_name  label  sequence  \\\n",
       "0  e923dc51c3d3f6ff66ddb56b03f6c535.JPG                0      0        34   \n",
       "1  ad168605cf575df7071a8fd3243183d7.JPG                0      0        34   \n",
       "2  4c5e1e09c364d17cdce4ae943535e9b9.JPG                0      0        45   \n",
       "3  a2347dc80412aaf70f17ff7bdb1b87cb.JPG                0      0        45   \n",
       "4  10d51e412312e8b6d28275e201b04a0e.JPG                0      0        45   \n",
       "\n",
       "    side                                           path       split  is_query  \\\n",
       "0  right  ../train/e923dc51c3d3f6ff66ddb56b03f6c535.JPG  validation       1.0   \n",
       "1  right  ../train/ad168605cf575df7071a8fd3243183d7.JPG  validation       1.0   \n",
       "2  right  ../train/4c5e1e09c364d17cdce4ae943535e9b9.JPG  validation       1.0   \n",
       "3  right  ../train/a2347dc80412aaf70f17ff7bdb1b87cb.JPG  validation       1.0   \n",
       "4  right  ../train/10d51e412312e8b6d28275e201b04a0e.JPG  validation       1.0   \n",
       "\n",
       "   is_gallery  \n",
       "0         1.0  \n",
       "1         1.0  \n",
       "2         1.0  \n",
       "3         1.0  \n",
       "4         1.0  "
      ]
     },
     "execution_count": 53,
     "metadata": {},
     "output_type": "execute_result"
    }
   ],
   "source": [
    "train_df = pd.read_csv(\"train_tiger.csv\")\n",
    "train_df.head()"
   ]
  },
  {
   "cell_type": "markdown",
   "id": "2d9fa13c",
   "metadata": {},
   "source": [
    "# Обучение модели"
   ]
  },
  {
   "cell_type": "code",
   "execution_count": 54,
   "id": "21b9bef6-7a5f-4a3d-bdf8-887a033ec217",
   "metadata": {},
   "outputs": [],
   "source": [
    "from pathlib import Path\n",
    "from pprint import pprint\n",
    "from typing import Tuple\n",
    "\n",
    "import hydra\n",
    "import pytorch_lightning as pl\n",
    "from omegaconf import DictConfig\n",
    "from oml.const import TCfg\n",
    "from oml.datasets.images import get_retrieval_images_datasets\n",
    "from oml.lightning.callbacks.metric import MetricValCallback\n",
    "from oml.lightning.modules.extractor import ExtractorModule, ExtractorModuleDDP\n",
    "from oml.lightning.pipelines.parser import (\n",
    "    check_is_config_for_ddp,\n",
    "    parse_logger_from_config,\n",
    "    parse_ckpt_callback_from_config,\n",
    "    parse_engine_params_from_config,\n",
    "    parse_sampler_from_config,\n",
    "    parse_scheduler_from_config,\n",
    ")\n",
    "from oml.metrics.embeddings import EmbeddingMetrics\n",
    "from oml.registry.losses import get_criterion_by_cfg\n",
    "from oml.registry.models import get_extractor_by_cfg\n",
    "from oml.registry.optimizers import get_optimizer_by_cfg\n",
    "from oml.registry.transforms import TRANSFORMS_REGISTRY, get_transforms_by_cfg\n",
    "from oml.utils.misc import dictconfig_to_dict, set_global_seed\n",
    "from torch.utils.data import DataLoader\n",
    "\n",
    "import torch\n",
    "\n",
    "import albumentations as albu\n",
    "import cv2\n",
    "from albumentations.pytorch import ToTensorV2\n",
    "from oml.const import MEAN, PAD_COLOR, STD, TNormParam"
   ]
  },
  {
   "cell_type": "code",
   "execution_count": 55,
   "id": "433eb7ad-b0c3-4852-a133-eb0acf3ff6ef",
   "metadata": {},
   "outputs": [],
   "source": [
    "from datetime import datetime\n",
    "\n",
    "postfix = \"metric_learning\"\n",
    "\n",
    "current_dateTime = datetime.now()\n",
    "y = current_dateTime.year\n",
    "month = current_dateTime.month\n",
    "d = current_dateTime.day\n",
    "hour = current_dateTime.hour\n",
    "minute = current_dateTime.minute\n",
    "s = current_dateTime.second\n",
    "ms = current_dateTime.microsecond\n",
    "\n",
    "cfg: TCfg = {\n",
    "    \"postfix\": postfix,\n",
    "    \"seed\": 42,\n",
    "    \"image_size\": 224,\n",
    "    \"accelerator\": \"gpu\",\n",
    "    \"devices\": 1, \n",
    "    \"dataframe_name\": \"train_tiger.csv\",\n",
    "    \"dataset_root\": \"./\",\n",
    "    \"logs_root\": \"logs/\",\n",
    "    \"logs_folder\": f\"{y}-{month}-{d}-{hour}-{minute}-{s}-{ms}_{postfix}\",\n",
    "    \"num_workers\": 4,\n",
    "    \"cache_size\": 0,\n",
    "    \"sampler\": None,\n",
    "    \"bs_train\": 32,\n",
    "    \"bs_val\": 64,  \n",
    "    \"max_epochs\": 7,  # number of epochs to train\n",
    "    \"valid_period\": 1, \n",
    "    \"save_dir\": \".\",\n",
    "\n",
    "    \"metric_args\": {\n",
    "        \"metrics_to_exclude_from_visualization\": [\"cmc\"],\n",
    "        \"map_top_k\": [1, 3, 5], \n",
    "        \"return_only_overall_category\": False,\n",
    "        \"visualize_only_overall_category\": False\n",
    "    },\n",
    "\n",
    "    \"log_images\": True,\n",
    "    \"metric_for_checkpointing\": \"OVERALL/map/5\",\n",
    "\n",
    "\n",
    "    \"extractor\":{\n",
    "        \"name\": \"vit\",\n",
    "        \"args\":{\n",
    "            \"arch\": \"vitl14\",\n",
    "            # \"gem_p\": 3.0,\n",
    "            # \"remove_fc\": True,\n",
    "            \"normalise_features\": False,\n",
    "            \"weights\": \"vitl14_dinov2\",\n",
    "        },\n",
    "    },\n",
    "\n",
    "    \"criterion\": {\n",
    "        \"name\": \"arcface\",\n",
    "        \"args\":{\n",
    "            \"smoothing_epsilon\": 0.0,\n",
    "            # \"m\": 0.4,\n",
    "            # \"s\": 64,\n",
    "            \"in_features\": 1024,\n",
    "            \"num_classes\": 6626,\n",
    "        },\n",
    "    },\n",
    "\n",
    "    \"optimizer\":{\n",
    "        \"name\": \"adam\",\n",
    "        \"args\":{\n",
    "            \"lr\": 1e-5,\n",
    "        },\n",
    "    },\n",
    "\n",
    "    \"scheduling\": None,\n",
    "    \"logger\":{\n",
    "        \"name\": \"tensorboard\",  \n",
    "        \"args\":{\n",
    "            \"save_dir\": \".\"\n",
    "        }\n",
    "    }\n",
    "}\n"
   ]
  },
  {
   "cell_type": "code",
   "execution_count": 56,
   "id": "b526a378-7163-4272-8f71-84115ffc32da",
   "metadata": {},
   "outputs": [],
   "source": [
    "def get_transforms(im_size: int, mean: TNormParam = MEAN, std: TNormParam = STD) -> albu.Compose:\n",
    "    \"\"\"\n",
    "    Use default oml albu augs, but without HorizontalFlip.\n",
    "    :param im_size:\n",
    "    :param mean:\n",
    "    :param std:\n",
    "    :return:\n",
    "    \"\"\"\n",
    "    return albu.Compose(\n",
    "        [\n",
    "            albu.LongestMaxSize(max_size=im_size),\n",
    "            albu.PadIfNeeded(\n",
    "                min_height=im_size,\n",
    "                min_width=im_size,\n",
    "                border_mode=cv2.BORDER_CONSTANT,\n",
    "                value=PAD_COLOR,\n",
    "            ),\n",
    "            albu.Normalize(mean=mean, std=std),\n",
    "            ToTensorV2(),\n",
    "        ],\n",
    "    )"
   ]
  },
  {
   "cell_type": "code",
   "execution_count": 57,
   "id": "f0381b91-fd2a-4b37-bfc1-ac76e8e22c0b",
   "metadata": {},
   "outputs": [],
   "source": [
    "def get_retrieval_loaders(cfg: TCfg) -> Tuple[DataLoader, DataLoader]:\n",
    "    train_dataset, valid_dataset = get_retrieval_images_datasets(\n",
    "        dataset_root=Path(cfg['dataset_root']),\n",
    "        transforms_train=get_transforms(cfg['image_size']),\n",
    "        transforms_val=get_transforms(cfg['image_size']),\n",
    "        dataframe_name=cfg['dataframe_name'],\n",
    "        cache_size=cfg['cache_size'],\n",
    "        verbose=cfg.get('show_dataset_warnings', True),\n",
    "    )    \n",
    "\n",
    "    loader_train = DataLoader(\n",
    "        dataset=train_dataset,\n",
    "        num_workers=cfg['num_workers'],\n",
    "        batch_size=cfg['bs_train'],\n",
    "        drop_last=True,\n",
    "        shuffle=True,\n",
    "    )\n",
    "\n",
    "    loader_val = DataLoader(dataset=valid_dataset, batch_size=cfg['bs_val'], num_workers=cfg['num_workers'])\n",
    "\n",
    "    return loader_train, loader_val\n"
   ]
  },
  {
   "cell_type": "code",
   "execution_count": 58,
   "id": "f26efb33-3626-4bf4-8ce1-0c28af16189d",
   "metadata": {},
   "outputs": [],
   "source": [
    "def extractor_training_pipeline(cfg: TCfg) -> None:\n",
    "    set_global_seed(cfg['seed'])\n",
    "\n",
    "    cfg = dictconfig_to_dict(cfg)\n",
    "    print(cfg)\n",
    "    \n",
    "    logger = parse_logger_from_config(cfg)\n",
    "    logger.log_pipeline_info(cfg)\n",
    "\n",
    "    loader_train, loaders_val = get_retrieval_loaders(cfg)\n",
    "    extractor = get_extractor_by_cfg(cfg['extractor'])\n",
    "    criterion = get_criterion_by_cfg(cfg['criterion'], **{'label2category': loader_train.dataset.get_label2category()})\n",
    "    optimizable_parameters = [\n",
    "        {'lr': cfg['optimizer']['args']['lr'], 'params': extractor.parameters()},\n",
    "        {'lr': cfg['optimizer']['args']['lr'], 'params': criterion.parameters()},\n",
    "    ]\n",
    "    optimizer = get_optimizer_by_cfg(cfg['optimizer'], **{'params': optimizable_parameters})  # type: ignore\n",
    "\n",
    "    module_kwargs = {}\n",
    "    module_kwargs.update(parse_scheduler_from_config(cfg, optimizer=optimizer))\n",
    "    module_constructor = ExtractorModule  # type: ignore\n",
    "\n",
    "    pl_module = module_constructor(\n",
    "        extractor=extractor,\n",
    "        criterion=criterion,\n",
    "        optimizer=optimizer,\n",
    "        input_tensors_key=loader_train.dataset.input_tensors_key,\n",
    "        labels_key=loader_train.dataset.labels_key,\n",
    "        freeze_n_epochs=cfg.get('freeze_n_epochs', 0),\n",
    "        **module_kwargs,\n",
    "    )\n",
    "\n",
    "    metrics_constructor = EmbeddingMetrics\n",
    "    metrics_calc = metrics_constructor(\n",
    "        dataset = loaders_val.dataset,\n",
    "        **cfg.get('metric_args', {}),\n",
    "    )\n",
    "\n",
    "\n",
    "    metrics_clb_constructor = MetricValCallback\n",
    "    metrics_clb = metrics_clb_constructor(\n",
    "        metric=metrics_calc,\n",
    "        log_images=cfg.get('log_images', False),\n",
    "    )\n",
    "\n",
    "    trainer = pl.Trainer(\n",
    "        max_epochs=cfg['max_epochs'],\n",
    "        num_sanity_val_steps=0,\n",
    "        check_val_every_n_epoch=cfg['valid_period'],\n",
    "        default_root_dir=str(Path.cwd()),\n",
    "        enable_checkpointing=True,\n",
    "        enable_progress_bar=True,\n",
    "        enable_model_summary=True,\n",
    "        callbacks=[metrics_clb, parse_ckpt_callback_from_config(cfg)],\n",
    "        logger=logger,\n",
    "        precision=16,\n",
    "        # **trainer_engine_params,\n",
    "        **cfg.get('lightning_trainer_extra_args', {}),\n",
    "    )\n",
    "\n",
    "    trainer.fit(model=pl_module, train_dataloaders=loader_train, val_dataloaders=loaders_val)\n"
   ]
  },
  {
   "cell_type": "code",
   "execution_count": 59,
   "id": "9ed81ec0-a377-4ef9-af73-d84e2a11ea6f",
   "metadata": {},
   "outputs": [
    {
     "name": "stdout",
     "output_type": "stream",
     "text": [
      "{'postfix': 'metric_learning', 'seed': 42, 'image_size': 224, 'accelerator': 'gpu', 'devices': 1, 'dataframe_name': 'train_tiger.csv', 'dataset_root': './', 'logs_root': 'logs/', 'logs_folder': '2025-4-9-14-48-39-78694_metric_learning', 'num_workers': 4, 'cache_size': 0, 'sampler': None, 'bs_train': 32, 'bs_val': 64, 'max_epochs': 7, 'valid_period': 1, 'save_dir': '.', 'metric_args': {'metrics_to_exclude_from_visualization': ['cmc'], 'map_top_k': [1, 3, 5], 'return_only_overall_category': False, 'visualize_only_overall_category': False}, 'log_images': True, 'metric_for_checkpointing': 'OVERALL/map/5', 'extractor': {'name': 'vit', 'args': {'arch': 'vitl14', 'normalise_features': False, 'weights': 'vitl14_dinov2'}}, 'criterion': {'name': 'arcface', 'args': {'smoothing_epsilon': 0.0, 'in_features': 1024, 'num_classes': 6626}}, 'optimizer': {'name': 'adam', 'args': {'lr': 1e-05}}, 'scheduling': None, 'logger': {'name': 'tensorboard', 'args': {'save_dir': '.'}}}\n"
     ]
    },
    {
     "name": "stderr",
     "output_type": "stream",
     "text": [
      "/tmp/ipykernel_133527/3169649354.py:12: UserWarning: Argument(s) 'value' are not valid for transform PadIfNeeded\n",
      "  albu.PadIfNeeded(\n"
     ]
    },
    {
     "name": "stdout",
     "output_type": "stream",
     "text": [
      "https://dl.fbaipublicfiles.com/dinov2/dinov2_vitl14/dinov2_vitl14_pretrain.pth\n",
      "Checkpoint is already here.\n"
     ]
    },
    {
     "name": "stderr",
     "output_type": "stream",
     "text": [
      "/venv/main/lib/python3.10/site-packages/lightning_fabric/connector.py:571: `precision=16` is supported for historical reasons but its usage is discouraged. Please set your precision to 16-mixed instead!\n",
      "Using 16bit Automatic Mixed Precision (AMP)\n",
      "GPU available: True (cuda), used: True\n",
      "TPU available: False, using: 0 TPU cores\n",
      "HPU available: False, using: 0 HPUs\n",
      "/venv/main/lib/python3.10/site-packages/pytorch_lightning/callbacks/model_checkpoint.py:654: Checkpoint directory /baseline/checkpoints exists and is not empty.\n",
      "LOCAL_RANK: 0 - CUDA_VISIBLE_DEVICES: [0]\n",
      "\n",
      "  | Name      | Type         | Params | Mode \n",
      "---------------------------------------------------\n",
      "0 | model     | ViTExtractor | 304 M  | train\n",
      "1 | criterion | ArcFaceLoss  | 6.8 M  | train\n",
      "---------------------------------------------------\n",
      "311 M     Trainable params\n",
      "0         Non-trainable params\n",
      "311 M     Total params\n",
      "1,244.615 Total estimated model params size (MB)\n",
      "418       Modules in train mode\n",
      "0         Modules in eval mode\n"
     ]
    },
    {
     "data": {
      "application/vnd.jupyter.widget-view+json": {
       "model_id": "3ffe979b21ed4076a7a5e49554ac7144",
       "version_major": 2,
       "version_minor": 0
      },
      "text/plain": [
       "Training: |          | 0/? [00:00<?, ?it/s]"
      ]
     },
     "metadata": {},
     "output_type": "display_data"
    },
    {
     "data": {
      "application/vnd.jupyter.widget-view+json": {
       "model_id": "d1a2ff3d36b24f519a46151ae1ab49d5",
       "version_major": 2,
       "version_minor": 0
      },
      "text/plain": [
       "Validation: |          | 0/? [00:00<?, ?it/s]"
      ]
     },
     "metadata": {},
     "output_type": "display_data"
    },
    {
     "data": {
      "application/vnd.jupyter.widget-view+json": {
       "model_id": "f4641cddd02f47c198fe0ade4a317aea",
       "version_major": 2,
       "version_minor": 0
      },
      "text/plain": [
       "Finding nearest neighbors.:   0%|          | 0/1 [00:00<?, ?it/s]"
      ]
     },
     "metadata": {},
     "output_type": "display_data"
    },
    {
     "data": {
      "application/vnd.jupyter.widget-view+json": {
       "model_id": "2d9e199f2eff42ef9378dcc728284bc7",
       "version_major": 2,
       "version_minor": 0
      },
      "text/plain": [
       "CMC@5:   0%|          | 0/2160 [00:00<?, ?it/s]"
      ]
     },
     "metadata": {},
     "output_type": "display_data"
    },
    {
     "data": {
      "application/vnd.jupyter.widget-view+json": {
       "model_id": "1a23652b1c9243b48a224023a7f469e5",
       "version_major": 2,
       "version_minor": 0
      },
      "text/plain": [
       "Precision@5:   0%|          | 0/2160 [00:00<?, ?it/s]"
      ]
     },
     "metadata": {},
     "output_type": "display_data"
    },
    {
     "data": {
      "application/vnd.jupyter.widget-view+json": {
       "model_id": "b73df3207b1d4a138a6bd40e03be8941",
       "version_major": 2,
       "version_minor": 0
      },
      "text/plain": [
       "MAP@1:   0%|          | 0/2160 [00:00<?, ?it/s]"
      ]
     },
     "metadata": {},
     "output_type": "display_data"
    },
    {
     "data": {
      "application/vnd.jupyter.widget-view+json": {
       "model_id": "9a7a07b13f514405b39c9d77b728a201",
       "version_major": 2,
       "version_minor": 0
      },
      "text/plain": [
       "MAP@3:   0%|          | 0/2160 [00:00<?, ?it/s]"
      ]
     },
     "metadata": {},
     "output_type": "display_data"
    },
    {
     "data": {
      "application/vnd.jupyter.widget-view+json": {
       "model_id": "c0d2c7f147c9483099566a82ebefe6f8",
       "version_major": 2,
       "version_minor": 0
      },
      "text/plain": [
       "MAP@5:   0%|          | 0/2160 [00:00<?, ?it/s]"
      ]
     },
     "metadata": {},
     "output_type": "display_data"
    },
    {
     "name": "stdout",
     "output_type": "stream",
     "text": [
      "\n",
      "Metrics:\n",
      "{'OVERALL': {'cmc': {5: tensor(0.8389)},\n",
      "             'map': {1: tensor(0.6315), 3: tensor(0.6897), 5: tensor(0.6860)},\n",
      "             'pcf': {0.5: tensor(0.0107)},\n",
      "             'precision': {5: tensor(0.5607)}}}\n"
     ]
    },
    {
     "name": "stderr",
     "output_type": "stream",
     "text": [
      "Epoch 0, global step 170: 'OVERALL/map/5' reached 0.68597 (best 0.68597), saving model to '/baseline/checkpoints/best-v4.ckpt' as top 1\n"
     ]
    },
    {
     "data": {
      "application/vnd.jupyter.widget-view+json": {
       "model_id": "9b23d94f8d2b48e2ae4258d056150590",
       "version_major": 2,
       "version_minor": 0
      },
      "text/plain": [
       "Validation: |          | 0/? [00:00<?, ?it/s]"
      ]
     },
     "metadata": {},
     "output_type": "display_data"
    },
    {
     "data": {
      "application/vnd.jupyter.widget-view+json": {
       "model_id": "5bc00dd946784bebbe5c9b8236cd9c6d",
       "version_major": 2,
       "version_minor": 0
      },
      "text/plain": [
       "Finding nearest neighbors.:   0%|          | 0/1 [00:00<?, ?it/s]"
      ]
     },
     "metadata": {},
     "output_type": "display_data"
    },
    {
     "data": {
      "application/vnd.jupyter.widget-view+json": {
       "model_id": "80bc9c1699cf4d938c1b6de9029fac40",
       "version_major": 2,
       "version_minor": 0
      },
      "text/plain": [
       "CMC@5:   0%|          | 0/2160 [00:00<?, ?it/s]"
      ]
     },
     "metadata": {},
     "output_type": "display_data"
    },
    {
     "data": {
      "application/vnd.jupyter.widget-view+json": {
       "model_id": "e6e70c40b7b4454890276b79919dc872",
       "version_major": 2,
       "version_minor": 0
      },
      "text/plain": [
       "Precision@5:   0%|          | 0/2160 [00:00<?, ?it/s]"
      ]
     },
     "metadata": {},
     "output_type": "display_data"
    },
    {
     "data": {
      "application/vnd.jupyter.widget-view+json": {
       "model_id": "b7ea12be1b2044d29154a5d42fd90689",
       "version_major": 2,
       "version_minor": 0
      },
      "text/plain": [
       "MAP@1:   0%|          | 0/2160 [00:00<?, ?it/s]"
      ]
     },
     "metadata": {},
     "output_type": "display_data"
    },
    {
     "data": {
      "application/vnd.jupyter.widget-view+json": {
       "model_id": "c8b532fb902b49d1a742b9165d0d82ae",
       "version_major": 2,
       "version_minor": 0
      },
      "text/plain": [
       "MAP@3:   0%|          | 0/2160 [00:00<?, ?it/s]"
      ]
     },
     "metadata": {},
     "output_type": "display_data"
    },
    {
     "data": {
      "application/vnd.jupyter.widget-view+json": {
       "model_id": "38eaf2004745480e868be370c3960405",
       "version_major": 2,
       "version_minor": 0
      },
      "text/plain": [
       "MAP@5:   0%|          | 0/2160 [00:00<?, ?it/s]"
      ]
     },
     "metadata": {},
     "output_type": "display_data"
    },
    {
     "name": "stdout",
     "output_type": "stream",
     "text": [
      "\n",
      "Metrics:\n",
      "{'OVERALL': {'cmc': {5: tensor(0.8745)},\n",
      "             'map': {1: tensor(0.7426), 3: tensor(0.7769), 5: tensor(0.7728)},\n",
      "             'pcf': {0.5: tensor(0.0156)},\n",
      "             'precision': {5: tensor(0.6877)}}}\n"
     ]
    },
    {
     "name": "stderr",
     "output_type": "stream",
     "text": [
      "Epoch 1, global step 340: 'OVERALL/map/5' reached 0.77279 (best 0.77279), saving model to '/baseline/checkpoints/best-v4.ckpt' as top 1\n"
     ]
    },
    {
     "data": {
      "application/vnd.jupyter.widget-view+json": {
       "model_id": "90df58c430c847819021e58b2fb81cf6",
       "version_major": 2,
       "version_minor": 0
      },
      "text/plain": [
       "Validation: |          | 0/? [00:00<?, ?it/s]"
      ]
     },
     "metadata": {},
     "output_type": "display_data"
    },
    {
     "data": {
      "application/vnd.jupyter.widget-view+json": {
       "model_id": "cf9c1d76f06446a5a206dc7c7e65d579",
       "version_major": 2,
       "version_minor": 0
      },
      "text/plain": [
       "Finding nearest neighbors.:   0%|          | 0/1 [00:00<?, ?it/s]"
      ]
     },
     "metadata": {},
     "output_type": "display_data"
    },
    {
     "data": {
      "application/vnd.jupyter.widget-view+json": {
       "model_id": "42bd3270ecfa46a49035ac4010469b99",
       "version_major": 2,
       "version_minor": 0
      },
      "text/plain": [
       "CMC@5:   0%|          | 0/2160 [00:00<?, ?it/s]"
      ]
     },
     "metadata": {},
     "output_type": "display_data"
    },
    {
     "data": {
      "application/vnd.jupyter.widget-view+json": {
       "model_id": "617b94985b9a4d24b4eafa58396f8670",
       "version_major": 2,
       "version_minor": 0
      },
      "text/plain": [
       "Precision@5:   0%|          | 0/2160 [00:00<?, ?it/s]"
      ]
     },
     "metadata": {},
     "output_type": "display_data"
    },
    {
     "data": {
      "application/vnd.jupyter.widget-view+json": {
       "model_id": "57cdbd0ba22c456c90f5ce3f0f07f2b4",
       "version_major": 2,
       "version_minor": 0
      },
      "text/plain": [
       "MAP@1:   0%|          | 0/2160 [00:00<?, ?it/s]"
      ]
     },
     "metadata": {},
     "output_type": "display_data"
    },
    {
     "data": {
      "application/vnd.jupyter.widget-view+json": {
       "model_id": "5da522c892204c6aaf6d81eebe192a1b",
       "version_major": 2,
       "version_minor": 0
      },
      "text/plain": [
       "MAP@3:   0%|          | 0/2160 [00:00<?, ?it/s]"
      ]
     },
     "metadata": {},
     "output_type": "display_data"
    },
    {
     "data": {
      "application/vnd.jupyter.widget-view+json": {
       "model_id": "24f42b0e84b947f88a13417531aa9eab",
       "version_major": 2,
       "version_minor": 0
      },
      "text/plain": [
       "MAP@5:   0%|          | 0/2160 [00:00<?, ?it/s]"
      ]
     },
     "metadata": {},
     "output_type": "display_data"
    },
    {
     "name": "stdout",
     "output_type": "stream",
     "text": [
      "\n",
      "Metrics:\n",
      "{'OVERALL': {'cmc': {5: tensor(0.8903)},\n",
      "             'map': {1: tensor(0.7806), 3: tensor(0.8115), 5: tensor(0.8055)},\n",
      "             'pcf': {0.5: tensor(0.0176)},\n",
      "             'precision': {5: tensor(0.7345)}}}\n"
     ]
    },
    {
     "name": "stderr",
     "output_type": "stream",
     "text": [
      "Epoch 2, global step 510: 'OVERALL/map/5' reached 0.80553 (best 0.80553), saving model to '/baseline/checkpoints/best-v4.ckpt' as top 1\n"
     ]
    },
    {
     "data": {
      "application/vnd.jupyter.widget-view+json": {
       "model_id": "6425318c3b4844afab7c411236d93555",
       "version_major": 2,
       "version_minor": 0
      },
      "text/plain": [
       "Validation: |          | 0/? [00:00<?, ?it/s]"
      ]
     },
     "metadata": {},
     "output_type": "display_data"
    },
    {
     "data": {
      "application/vnd.jupyter.widget-view+json": {
       "model_id": "986e41bde93c4e5d8deeead15ba9fb6e",
       "version_major": 2,
       "version_minor": 0
      },
      "text/plain": [
       "Finding nearest neighbors.:   0%|          | 0/1 [00:00<?, ?it/s]"
      ]
     },
     "metadata": {},
     "output_type": "display_data"
    },
    {
     "data": {
      "application/vnd.jupyter.widget-view+json": {
       "model_id": "0e90ac35cadb40a5a8f1413d681c5cf0",
       "version_major": 2,
       "version_minor": 0
      },
      "text/plain": [
       "CMC@5:   0%|          | 0/2160 [00:00<?, ?it/s]"
      ]
     },
     "metadata": {},
     "output_type": "display_data"
    },
    {
     "data": {
      "application/vnd.jupyter.widget-view+json": {
       "model_id": "46bb8f14924d484a89c28ad83d6c737b",
       "version_major": 2,
       "version_minor": 0
      },
      "text/plain": [
       "Precision@5:   0%|          | 0/2160 [00:00<?, ?it/s]"
      ]
     },
     "metadata": {},
     "output_type": "display_data"
    },
    {
     "data": {
      "application/vnd.jupyter.widget-view+json": {
       "model_id": "239cdfa566554e90bb7968ade0e1cf62",
       "version_major": 2,
       "version_minor": 0
      },
      "text/plain": [
       "MAP@1:   0%|          | 0/2160 [00:00<?, ?it/s]"
      ]
     },
     "metadata": {},
     "output_type": "display_data"
    },
    {
     "data": {
      "application/vnd.jupyter.widget-view+json": {
       "model_id": "389d16b158bf4b52adb53b58b556d6c0",
       "version_major": 2,
       "version_minor": 0
      },
      "text/plain": [
       "MAP@3:   0%|          | 0/2160 [00:00<?, ?it/s]"
      ]
     },
     "metadata": {},
     "output_type": "display_data"
    },
    {
     "data": {
      "application/vnd.jupyter.widget-view+json": {
       "model_id": "1735a82d02eb4a2d9957f31836e20edf",
       "version_major": 2,
       "version_minor": 0
      },
      "text/plain": [
       "MAP@5:   0%|          | 0/2160 [00:00<?, ?it/s]"
      ]
     },
     "metadata": {},
     "output_type": "display_data"
    },
    {
     "name": "stdout",
     "output_type": "stream",
     "text": [
      "\n",
      "Metrics:\n",
      "{'OVERALL': {'cmc': {5: tensor(0.9014)},\n",
      "             'map': {1: tensor(0.7884), 3: tensor(0.8228), 5: tensor(0.8171)},\n",
      "             'pcf': {0.5: tensor(0.0205)},\n",
      "             'precision': {5: tensor(0.7493)}}}\n"
     ]
    },
    {
     "name": "stderr",
     "output_type": "stream",
     "text": [
      "Epoch 3, global step 680: 'OVERALL/map/5' reached 0.81713 (best 0.81713), saving model to '/baseline/checkpoints/best-v4.ckpt' as top 1\n"
     ]
    },
    {
     "data": {
      "application/vnd.jupyter.widget-view+json": {
       "model_id": "06ac1da55bec4f36aa1766bc9d13e956",
       "version_major": 2,
       "version_minor": 0
      },
      "text/plain": [
       "Validation: |          | 0/? [00:00<?, ?it/s]"
      ]
     },
     "metadata": {},
     "output_type": "display_data"
    },
    {
     "data": {
      "application/vnd.jupyter.widget-view+json": {
       "model_id": "9974a310dbee4baf84848141bda8590a",
       "version_major": 2,
       "version_minor": 0
      },
      "text/plain": [
       "Finding nearest neighbors.:   0%|          | 0/1 [00:00<?, ?it/s]"
      ]
     },
     "metadata": {},
     "output_type": "display_data"
    },
    {
     "data": {
      "application/vnd.jupyter.widget-view+json": {
       "model_id": "744f89d81d0e4e80b2c57a722d72e3f0",
       "version_major": 2,
       "version_minor": 0
      },
      "text/plain": [
       "CMC@5:   0%|          | 0/2160 [00:00<?, ?it/s]"
      ]
     },
     "metadata": {},
     "output_type": "display_data"
    },
    {
     "data": {
      "application/vnd.jupyter.widget-view+json": {
       "model_id": "21e4aed233694e63a6b05385d57a0732",
       "version_major": 2,
       "version_minor": 0
      },
      "text/plain": [
       "Precision@5:   0%|          | 0/2160 [00:00<?, ?it/s]"
      ]
     },
     "metadata": {},
     "output_type": "display_data"
    },
    {
     "data": {
      "application/vnd.jupyter.widget-view+json": {
       "model_id": "029d068977d84654ab0548ed61816fb1",
       "version_major": 2,
       "version_minor": 0
      },
      "text/plain": [
       "MAP@1:   0%|          | 0/2160 [00:00<?, ?it/s]"
      ]
     },
     "metadata": {},
     "output_type": "display_data"
    },
    {
     "data": {
      "application/vnd.jupyter.widget-view+json": {
       "model_id": "346848a2790042639e99d5686a18126c",
       "version_major": 2,
       "version_minor": 0
      },
      "text/plain": [
       "MAP@3:   0%|          | 0/2160 [00:00<?, ?it/s]"
      ]
     },
     "metadata": {},
     "output_type": "display_data"
    },
    {
     "data": {
      "application/vnd.jupyter.widget-view+json": {
       "model_id": "308ffe2e380343648c47f9fbff6e7823",
       "version_major": 2,
       "version_minor": 0
      },
      "text/plain": [
       "MAP@5:   0%|          | 0/2160 [00:00<?, ?it/s]"
      ]
     },
     "metadata": {},
     "output_type": "display_data"
    },
    {
     "name": "stdout",
     "output_type": "stream",
     "text": [
      "\n",
      "Metrics:\n",
      "{'OVERALL': {'cmc': {5: tensor(0.9083)},\n",
      "             'map': {1: tensor(0.7954), 3: tensor(0.8243), 5: tensor(0.8219)},\n",
      "             'pcf': {0.5: tensor(0.0215)},\n",
      "             'precision': {5: tensor(0.7566)}}}\n"
     ]
    },
    {
     "name": "stderr",
     "output_type": "stream",
     "text": [
      "Epoch 4, global step 850: 'OVERALL/map/5' reached 0.82185 (best 0.82185), saving model to '/baseline/checkpoints/best-v4.ckpt' as top 1\n"
     ]
    },
    {
     "data": {
      "application/vnd.jupyter.widget-view+json": {
       "model_id": "e1a57c67891640338ae47581d935f864",
       "version_major": 2,
       "version_minor": 0
      },
      "text/plain": [
       "Validation: |          | 0/? [00:00<?, ?it/s]"
      ]
     },
     "metadata": {},
     "output_type": "display_data"
    },
    {
     "data": {
      "application/vnd.jupyter.widget-view+json": {
       "model_id": "5d3e98149f6e4fef8aac25a2c16aa0ea",
       "version_major": 2,
       "version_minor": 0
      },
      "text/plain": [
       "Finding nearest neighbors.:   0%|          | 0/1 [00:00<?, ?it/s]"
      ]
     },
     "metadata": {},
     "output_type": "display_data"
    },
    {
     "data": {
      "application/vnd.jupyter.widget-view+json": {
       "model_id": "1ad6e2416e9f4690835f64f2ed9ea0fd",
       "version_major": 2,
       "version_minor": 0
      },
      "text/plain": [
       "CMC@5:   0%|          | 0/2160 [00:00<?, ?it/s]"
      ]
     },
     "metadata": {},
     "output_type": "display_data"
    },
    {
     "data": {
      "application/vnd.jupyter.widget-view+json": {
       "model_id": "5d7d95c911004807b6e4e48830a04d3f",
       "version_major": 2,
       "version_minor": 0
      },
      "text/plain": [
       "Precision@5:   0%|          | 0/2160 [00:00<?, ?it/s]"
      ]
     },
     "metadata": {},
     "output_type": "display_data"
    },
    {
     "data": {
      "application/vnd.jupyter.widget-view+json": {
       "model_id": "06e9318ee58d4869a98b96da72a94b22",
       "version_major": 2,
       "version_minor": 0
      },
      "text/plain": [
       "MAP@1:   0%|          | 0/2160 [00:00<?, ?it/s]"
      ]
     },
     "metadata": {},
     "output_type": "display_data"
    },
    {
     "data": {
      "application/vnd.jupyter.widget-view+json": {
       "model_id": "c3baa22fc20d468f9614ba01cd050761",
       "version_major": 2,
       "version_minor": 0
      },
      "text/plain": [
       "MAP@3:   0%|          | 0/2160 [00:00<?, ?it/s]"
      ]
     },
     "metadata": {},
     "output_type": "display_data"
    },
    {
     "data": {
      "application/vnd.jupyter.widget-view+json": {
       "model_id": "76a5eaac613443b4ae6ae68ecd7de524",
       "version_major": 2,
       "version_minor": 0
      },
      "text/plain": [
       "MAP@5:   0%|          | 0/2160 [00:00<?, ?it/s]"
      ]
     },
     "metadata": {},
     "output_type": "display_data"
    },
    {
     "name": "stdout",
     "output_type": "stream",
     "text": [
      "\n",
      "Metrics:\n",
      "{'OVERALL': {'cmc': {5: tensor(0.8977)},\n",
      "             'map': {1: tensor(0.7972), 3: tensor(0.8256), 5: tensor(0.8237)},\n",
      "             'pcf': {0.5: tensor(0.0215)},\n",
      "             'precision': {5: tensor(0.7625)}}}\n"
     ]
    },
    {
     "name": "stderr",
     "output_type": "stream",
     "text": [
      "Epoch 5, global step 1020: 'OVERALL/map/5' reached 0.82367 (best 0.82367), saving model to '/baseline/checkpoints/best-v4.ckpt' as top 1\n"
     ]
    },
    {
     "data": {
      "application/vnd.jupyter.widget-view+json": {
       "model_id": "44fb7a90f57949889023d3f89fbe5311",
       "version_major": 2,
       "version_minor": 0
      },
      "text/plain": [
       "Validation: |          | 0/? [00:00<?, ?it/s]"
      ]
     },
     "metadata": {},
     "output_type": "display_data"
    },
    {
     "data": {
      "application/vnd.jupyter.widget-view+json": {
       "model_id": "89869f9d57f34eb09f2a54dcbfa637c1",
       "version_major": 2,
       "version_minor": 0
      },
      "text/plain": [
       "Finding nearest neighbors.:   0%|          | 0/1 [00:00<?, ?it/s]"
      ]
     },
     "metadata": {},
     "output_type": "display_data"
    },
    {
     "data": {
      "application/vnd.jupyter.widget-view+json": {
       "model_id": "59393b686b584f28a6737835f94d314e",
       "version_major": 2,
       "version_minor": 0
      },
      "text/plain": [
       "CMC@5:   0%|          | 0/2160 [00:00<?, ?it/s]"
      ]
     },
     "metadata": {},
     "output_type": "display_data"
    },
    {
     "data": {
      "application/vnd.jupyter.widget-view+json": {
       "model_id": "cd2dd435e10c4037aa5707cd1b2c43bf",
       "version_major": 2,
       "version_minor": 0
      },
      "text/plain": [
       "Precision@5:   0%|          | 0/2160 [00:00<?, ?it/s]"
      ]
     },
     "metadata": {},
     "output_type": "display_data"
    },
    {
     "data": {
      "application/vnd.jupyter.widget-view+json": {
       "model_id": "63ff3c7b642044c5a0cb3cee08d608a1",
       "version_major": 2,
       "version_minor": 0
      },
      "text/plain": [
       "MAP@1:   0%|          | 0/2160 [00:00<?, ?it/s]"
      ]
     },
     "metadata": {},
     "output_type": "display_data"
    },
    {
     "data": {
      "application/vnd.jupyter.widget-view+json": {
       "model_id": "e9d791e3594e43109dc82fcab1a43caf",
       "version_major": 2,
       "version_minor": 0
      },
      "text/plain": [
       "MAP@3:   0%|          | 0/2160 [00:00<?, ?it/s]"
      ]
     },
     "metadata": {},
     "output_type": "display_data"
    },
    {
     "data": {
      "application/vnd.jupyter.widget-view+json": {
       "model_id": "5094859f1cd94068824fb2025a9006c7",
       "version_major": 2,
       "version_minor": 0
      },
      "text/plain": [
       "MAP@5:   0%|          | 0/2160 [00:00<?, ?it/s]"
      ]
     },
     "metadata": {},
     "output_type": "display_data"
    },
    {
     "name": "stdout",
     "output_type": "stream",
     "text": [
      "\n",
      "Metrics:\n",
      "{'OVERALL': {'cmc': {5: tensor(0.9088)},\n",
      "             'map': {1: tensor(0.7903), 3: tensor(0.8240), 5: tensor(0.8236)},\n",
      "             'pcf': {0.5: tensor(0.0234)},\n",
      "             'precision': {5: tensor(0.7645)}}}\n"
     ]
    },
    {
     "name": "stderr",
     "output_type": "stream",
     "text": [
      "Epoch 6, global step 1190: 'OVERALL/map/5' was not in top 1\n",
      "`Trainer.fit` stopped: `max_epochs=7` reached.\n"
     ]
    }
   ],
   "source": [
    "extractor_training_pipeline(cfg)"
   ]
  },
  {
   "cell_type": "code",
   "execution_count": null,
   "id": "2500c389-e07e-4e40-9628-68c9ce4694ff",
   "metadata": {},
   "outputs": [],
   "source": []
  },
  {
   "cell_type": "code",
   "execution_count": null,
   "id": "a9a13e17-d93c-4200-98b3-8964f34b2700",
   "metadata": {},
   "outputs": [],
   "source": []
  }
 ],
 "metadata": {
  "kernelspec": {
   "display_name": "Python3 (ipykernel)",
   "language": "python",
   "name": "python3"
  },
  "language_info": {
   "codemirror_mode": {
    "name": "ipython",
    "version": 3
   },
   "file_extension": ".py",
   "mimetype": "text/x-python",
   "name": "python",
   "nbconvert_exporter": "python",
   "pygments_lexer": "ipython3",
   "version": "3.10.12"
  }
 },
 "nbformat": 4,
 "nbformat_minor": 5
}
